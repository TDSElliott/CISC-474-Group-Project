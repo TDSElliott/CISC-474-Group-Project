{
 "cells": [
  {
   "cell_type": "code",
   "execution_count": 213,
   "outputs": [],
   "source": [
    "# Written by Tyler Elliott\n",
    "# Sourced from multiple tutorials and repositories, combined by myself\n",
    "\n",
    "# Most of the deep q-learning agent code came from here: https://www.tensorflow.org/agents/tutorials/1_dqn_tutorial\n",
    "\n",
    "# Uses the MovieLens environment found here: https://www.tensorflow.org/agents/api_docs/python/tf_agents/bandits/\n",
    "# environments/movielens_py_environment/MovieLensPyEnvironment\n",
    "# Most of the movielens environment manipulation comes from here: https://medium.com/@yuchengtsai84/reinforcement-\n",
    "# learning-based-recommender-systems-using-tf-agent-and-movielens-dataset-ebbf40b3a1a2\n",
    "# Although we took the framework from the above we created a trained a different agent on the same environment. Instead\n",
    "# of LinearUCB we implemented a Deep Q-Learning Agent.\n",
    "\n",
    "# Uses the tf_agents DQN Agent found here: https://www.tensorflow.org/agents/api_docs/python/tf_agents/agents/DqnAgent\n",
    "\n",
    "# Knowledge of replay buffers from here: https://www.tensorflow.org/agents/tutorials/5_replay_buffers_tutorial\n",
    "# Knowledge of trajectories from here:\n",
    "# https://www.tensorflow.org/agents/api_docs/python/tf_agents/trajectories/Trajectory\n",
    "# Knowledge of regret from here:\n",
    "# https://www.tensorflow.org/agents/api_docs/python/tf_agents/bandits/metrics/tf_metrics/RegretMetric\n",
    "# Combining buffers and trajectories to train from here: https://www.tensorflow.org/agents/tutorials/bandits_tutorial\n",
    "# The use of tf_agents QNetwork (which I ended up re-implementing manually instead) from here:\n",
    "# https://www.tensorflow.org/agents/api_docs/python/tf_agents/networks/q_network/QNetwork\n",
    "# The general concept of recommender RL from here:\n",
    "# https://cloud.google.com/blog/topics/developers-practitioners/build-reinforcement-learning-recommendation-\n",
    "# application-using-vertex-ai\n"
   ],
   "metadata": {
    "collapsed": false,
    "pycharm": {
     "name": "#%%\n"
    }
   }
  },
  {
   "cell_type": "code",
   "execution_count": 214,
   "metadata": {
    "collapsed": true
   },
   "outputs": [],
   "source": [
    "import functools\n",
    "from typing import List, Any, TypeVar\n",
    "\n",
    "import tensorflow as tf\n",
    "import tf_agents\n",
    "from matplotlib import pyplot as plt\n",
    "from tf_agents.agents.dqn import dqn_agent\n",
    "from tf_agents.bandits.environments import environment_utilities\n",
    "from tf_agents.bandits.environments import movielens_py_environment\n",
    "from tf_agents.bandits.metrics import tf_metrics as tf_bandit_metrics\n",
    "from tf_agents.drivers import dynamic_step_driver\n",
    "from tf_agents.environments import TFEnvironment\n",
    "from tf_agents.environments import tf_py_environment\n",
    "from tf_agents.networks import sequential\n",
    "from tf_agents.replay_buffers import tf_uniform_replay_buffer\n",
    "from tf_agents.specs import tensor_spec\n",
    "from tf_agents.utils import common\n",
    "\n",
    "import constant as const\n",
    "\n",
    "T = TypeVar(\"T\")\n"
   ]
  },
  {
   "cell_type": "code",
   "execution_count": 215,
   "outputs": [],
   "source": [
    "# Setup the environment using our experimental constant values\n",
    "# The 2 is required for DQN Agents as seen here:\n",
    "# https://www.tensorflow.org/agents/api_docs/python/tf_agents/agents/TFAgent\n",
    "def define_rl_environment() -> TFEnvironment:\n",
    "    env = movielens_py_environment.MovieLensPyEnvironment(\n",
    "        const.DATA_PATH, const.RANK_K, 2, num_movies=const.NUM_ACTIONS, csv_delimiter=\"\\t\")\n",
    "    environment = tf_py_environment.TFPyEnvironment(env)\n",
    "    return environment"
   ],
   "metadata": {
    "collapsed": false,
    "pycharm": {
     "name": "#%%\n"
    }
   }
  },
  {
   "cell_type": "code",
   "execution_count": 216,
   "outputs": [],
   "source": [
    "# Use a regret metric to determine improvement over training\n",
    "# Taken from the movielens environment tutorial\n",
    "def define_rl_metric(environment: TFEnvironment) -> List[Any]:\n",
    "    optimal_reward_fn = functools.partial(\n",
    "        environment_utilities.compute_optimal_reward_with_movielens_environment,\n",
    "        environment=environment)\n",
    "    regret_metric = tf_bandit_metrics.RegretMetric(optimal_reward_fn)\n",
    "    metrics = [regret_metric]\n",
    "    return metrics"
   ],
   "metadata": {
    "collapsed": false,
    "pycharm": {
     "name": "#%%\n"
    }
   }
  },
  {
   "cell_type": "code",
   "execution_count": 217,
   "outputs": [],
   "source": [
    "env = define_rl_environment()\n",
    "metric = define_rl_metric(env)"
   ],
   "metadata": {
    "collapsed": false,
    "pycharm": {
     "name": "#%%\n"
    }
   }
  },
  {
   "cell_type": "code",
   "execution_count": 218,
   "outputs": [
    {
     "name": "stdout",
     "output_type": "stream",
     "text": [
      "Observation Spec:\n",
      "TensorSpec(shape=(20,), dtype=tf.float64, name='observation')\n",
      "Reward spec\n",
      "TensorSpec(shape=(), dtype=tf.float32, name='reward')\n",
      "Action spec\n",
      "BoundedTensorSpec(shape=(), dtype=tf.int32, name='action', minimum=array(0), maximum=array(19))\n"
     ]
    }
   ],
   "source": [
    "print('Observation Spec:')\n",
    "print(env.time_step_spec().observation)\n",
    "\n",
    "print('Reward spec')\n",
    "print(env.reward_spec())\n",
    "\n",
    "print('Action spec')\n",
    "print(env.action_spec())"
   ],
   "metadata": {
    "collapsed": false,
    "pycharm": {
     "name": "#%%\n"
    }
   }
  },
  {
   "cell_type": "code",
   "execution_count": 219,
   "outputs": [
    {
     "name": "stdout",
     "output_type": "stream",
     "text": [
      "action_spec: BoundedTensorSpec(shape=(), dtype=tf.int32, name='action', minimum=array(0), maximum=array(19))\n",
      "time_step_spec.observation: TensorSpec(shape=(20,), dtype=tf.float64, name='observation')\n",
      "time_step_spec.step_type: TensorSpec(shape=(), dtype=tf.int32, name='step_type')\n",
      "time_step_spec.discount: BoundedTensorSpec(shape=(), dtype=tf.float32, name='discount', minimum=array(0., dtype=float32), maximum=array(1., dtype=float32))\n",
      "time_step_spec.reward: TensorSpec(shape=(), dtype=tf.float32, name='reward')\n"
     ]
    }
   ],
   "source": [
    "print('action_spec:', env.action_spec())\n",
    "print('time_step_spec.observation:', env.time_step_spec().observation)\n",
    "print('time_step_spec.step_type:', env.time_step_spec().step_type)\n",
    "print('time_step_spec.discount:', env.time_step_spec().discount)\n",
    "print('time_step_spec.reward:', env.time_step_spec().reward)"
   ],
   "metadata": {
    "collapsed": false,
    "pycharm": {
     "name": "#%%\n"
    }
   }
  },
  {
   "cell_type": "code",
   "execution_count": 220,
   "outputs": [],
   "source": [
    "# From the tf-agents DQN agent tutorial, initializing the q_value neural network itself\n",
    "\n",
    "fc_layer_params = (60, 40)\n",
    "action_tensor_spec = tensor_spec.from_spec(env.action_spec())\n",
    "num_actions = action_tensor_spec.maximum - action_tensor_spec.minimum + 1\n",
    "\n",
    "\n",
    "# Define a helper function to create Dense layers configured with the right\n",
    "# activation and kernel initializer.\n",
    "def dense_layer(num_units):\n",
    "    return tf.keras.layers.Dense(\n",
    "        num_units,\n",
    "        activation=tf.keras.activations.relu,\n",
    "        kernel_initializer=tf.keras.initializers.VarianceScaling(\n",
    "            scale=2.0, mode='fan_in', distribution='truncated_normal'))\n",
    "\n",
    "\n",
    "# QNetwork consists of a sequence of Dense layers followed by a dense layer\n",
    "# with `num_actions` units to generate one q_value per available action as\n",
    "# its output.\n",
    "dense_layers = [dense_layer(num_units) for num_units in fc_layer_params]\n",
    "q_values_layer = tf.keras.layers.Dense(\n",
    "    num_actions,\n",
    "    activation=None,\n",
    "    kernel_initializer=tf.keras.initializers.RandomUniform(\n",
    "        minval=-0.03, maxval=0.03),\n",
    "    bias_initializer=tf.keras.initializers.Constant(-0.2))\n",
    "q_net = sequential.Sequential(dense_layers + [q_values_layer])"
   ],
   "metadata": {
    "collapsed": false,
    "pycharm": {
     "name": "#%%\n"
    }
   }
  },
  {
   "cell_type": "code",
   "execution_count": 221,
   "outputs": [],
   "source": [
    "# tf_agents QNetwork instead of the custom one above (found to be less effective)\n",
    "fc_layer_params = (60, 40)\n",
    "input_tensor_spec = tensor_spec.from_spec(env.observation_spec())\n",
    "action_tensor_spec = tensor_spec.from_spec(env.action_spec())\n",
    "num_actions = action_tensor_spec.maximum - action_tensor_spec.minimum + 1\n",
    "\n",
    "tf_q_net = tf_agents.networks.q_network.QNetwork(input_tensor_spec, action_tensor_spec)"
   ],
   "metadata": {
    "collapsed": false,
    "pycharm": {
     "name": "#%%\n"
    }
   }
  },
  {
   "cell_type": "code",
   "execution_count": 222,
   "outputs": [],
   "source": [
    "# Initialiaze the DQN agent, taken from the tf-agents tutorial on using DQN agents\n",
    "learning_rate = 1e-3\n",
    "\n",
    "optimizer = tf.keras.optimizers.Adam(learning_rate=learning_rate)\n",
    "\n",
    "train_step_counter = tf.Variable(0)\n",
    "\n",
    "agent = dqn_agent.DqnAgent(\n",
    "    env.time_step_spec(),\n",
    "    env.action_spec(),\n",
    "    q_network=q_net,\n",
    "    optimizer=optimizer,\n",
    "    td_errors_loss_fn=common.element_wise_squared_loss,\n",
    "    train_step_counter=train_step_counter)\n",
    "\n",
    "agent.initialize()"
   ],
   "metadata": {
    "collapsed": false,
    "pycharm": {
     "name": "#%%\n"
    }
   }
  },
  {
   "cell_type": "code",
   "execution_count": 223,
   "outputs": [
    {
     "data": {
      "text/plain": "<Figure size 432x288 with 1 Axes>",
      "image/png": "[encoded data removed]"
     },
     "metadata": {
      "needs_background": "light"
     },
     "output_type": "display_data"
    }
   ],
   "source": [
    "# Taken from https://www.tensorflow.org/agents/tutorials/bandits_tutorial and made to fit our scenario and environment\n",
    "\n",
    "# define our regret metric\n",
    "regret_metric = define_rl_metric(env)[0]\n",
    "\n",
    "# experimental params\n",
    "# steps_per_loop and batch_size must be 2 because it as DQN Agent\n",
    "num_iterations = 1000\n",
    "steps_per_loop = 2\n",
    "batch_size = 2\n",
    "\n",
    "# replay buffer to store experience in the form of trajectories\n",
    "replay_buffer = tf_uniform_replay_buffer.TFUniformReplayBuffer(\n",
    "    data_spec=agent.policy.trajectory_spec,\n",
    "    batch_size=batch_size,\n",
    "    max_length=steps_per_loop)\n",
    "\n",
    "# the tracking metrics we will use\n",
    "observers = [replay_buffer.add_batch, regret_metric]\n",
    "\n",
    "# a driver to push the agent forward in exploration of the environment\n",
    "driver = dynamic_step_driver.DynamicStepDriver(\n",
    "    env=env,\n",
    "    policy=agent.collect_policy,\n",
    "    num_steps=steps_per_loop * batch_size,\n",
    "    observers=observers)\n",
    "\n",
    "regret_values = []\n",
    "\n",
    "for _ in range(num_iterations):\n",
    "    # start the driver\n",
    "    driver.run()\n",
    "    # begin training the agent based on all of the trajectories in the buffer\n",
    "    loss_info = agent.train(replay_buffer.gather_all())\n",
    "    replay_buffer.clear()\n",
    "    # track how our regret metric is changing\n",
    "    regret_values.append(regret_metric.result())\n",
    "\n",
    "plt.plot(regret_values)\n",
    "plt.title('Regret Metric')\n",
    "plt.ylabel('Average Regret')\n",
    "plt.xlabel('Number of Iterations')\n",
    "plt.savefig('Regret values')"
   ],
   "metadata": {
    "collapsed": false,
    "pycharm": {
     "name": "#%%\n"
    }
   }
  }
 ],
 "metadata": {
  "kernelspec": {
   "display_name": "Python 3",
   "language": "python",
   "name": "python3"
  },
  "language_info": {
   "codemirror_mode": {
    "name": "ipython",
    "version": 2
   },
   "file_extension": ".py",
   "mimetype": "text/x-python",
   "name": "python",
   "nbconvert_exporter": "python",
   "pygments_lexer": "ipython2",
   "version": "2.7.6"
  }
 },
 "nbformat": 4,
 "nbformat_minor": 0
}